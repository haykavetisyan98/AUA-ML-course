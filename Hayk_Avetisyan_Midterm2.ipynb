{
 "cells": [
  {
   "cell_type": "code",
   "execution_count": 1,
   "metadata": {},
   "outputs": [],
   "source": [
    "import numpy as np\n",
    "import pandas as pd\n",
    "import matplotlib.pyplot as plt\n",
    "from sklearn import tree\n",
    "from sklearn.model_selection import train_test_split"
   ]
  },
  {
   "cell_type": "code",
   "execution_count": 2,
   "metadata": {},
   "outputs": [],
   "source": [
    "from sklearn.datasets import make_regression\n",
    "from sklearn.datasets import make_gaussian_quantiles\n",
    "from sklearn.model_selection import cross_val_score\n",
    "from sklearn.ensemble import GradientBoostingRegressor\n",
    "from sklearn.ensemble import RandomForestRegressor\n",
    "from sklearn.ensemble import AdaBoostRegressor\n",
    "from sklearn.tree import DecisionTreeRegressor\n",
    "\n",
    "from sklearn.tree import DecisionTreeClassifier\n",
    "from sklearn.ensemble import AdaBoostClassifier\n",
    "from sklearn.tree import DecisionTreeClassifier\n"
   ]
  },
  {
   "cell_type": "code",
   "execution_count": 3,
   "metadata": {},
   "outputs": [],
   "source": [
    "from sklearn.preprocessing import LabelEncoder\n",
    "import seaborn as sns\n",
    "from sklearn.model_selection import  KFold, cross_val_score"
   ]
  },
  {
   "cell_type": "code",
   "execution_count": 4,
   "metadata": {},
   "outputs": [],
   "source": [
    "from sklearn import svm\n",
    "\n",
    "from sklearn.metrics import auc, confusion_matrix, classification_report, precision_score, roc_curve\n",
    "from sklearn.metrics import roc_auc_score, precision_recall_curve, average_precision_score, plot_confusion_matrix\n",
    "from sklearn.metrics import plot_roc_curve, plot_confusion_matrix, plot_precision_recall_curve"
   ]
  },
  {
   "cell_type": "code",
   "execution_count": 5,
   "metadata": {},
   "outputs": [],
   "source": [
    "from sklearn.model_selection import GridSearchCV\n",
    "import warnings\n",
    "warnings.filterwarnings('ignore')"
   ]
  },
  {
   "cell_type": "markdown",
   "metadata": {},
   "source": [
    "# Midterm 3 Avetisyan Hayk  A09160415 "
   ]
  },
  {
   "cell_type": "markdown",
   "metadata": {},
   "source": [
    "### Prolem 1"
   ]
  },
  {
   "cell_type": "code",
   "execution_count": 6,
   "metadata": {},
   "outputs": [],
   "source": [
    "X1, y1 = make_regression(n_samples=1000, n_features=7, n_informative=3, noise=10, random_state=15)"
   ]
  },
  {
   "cell_type": "code",
   "execution_count": 7,
   "metadata": {},
   "outputs": [],
   "source": [
    "X1_train, X1_test, y1_train, y1_test = train_test_split(X1, y1, test_size = 0.4, random_state=15)"
   ]
  },
  {
   "cell_type": "code",
   "execution_count": 8,
   "metadata": {},
   "outputs": [
    {
     "name": "stdout",
     "output_type": "stream",
     "text": [
      "Best score: 0.7839722296537289\n",
      "Best parameter: {'max_leaf_nodes': 19}\n"
     ]
    }
   ],
   "source": [
    "tree_regression = DecisionTreeRegressor(random_state = 15)\n",
    "\n",
    "params = { \"max_leaf_nodes\": np.arange(1,20)}\n",
    "\n",
    "tree_regression_cv = GridSearchCV(tree_regression, params, cv = 3, scoring = \"r2\")\n",
    "tree_regression_cv.fit(X1_train, y1_train)\n",
    "\n",
    "print(\"Best score:\", tree_regression_cv.best_score_)\n",
    "print(\"Best parameter:\", tree_regression_cv.best_params_)"
   ]
  },
  {
   "cell_type": "code",
   "execution_count": 9,
   "metadata": {},
   "outputs": [
    {
     "data": {
      "text/plain": [
       "DecisionTreeRegressor(ccp_alpha=0.0, criterion='mse', max_depth=None,\n",
       "                      max_features=None, max_leaf_nodes=19,\n",
       "                      min_impurity_decrease=0.0, min_impurity_split=None,\n",
       "                      min_samples_leaf=1, min_samples_split=2,\n",
       "                      min_weight_fraction_leaf=0.0, presort='deprecated',\n",
       "                      random_state=15, splitter='best')"
      ]
     },
     "execution_count": 9,
     "metadata": {},
     "output_type": "execute_result"
    }
   ],
   "source": [
    "Reg_A = DecisionTreeRegressor(random_state=15, max_leaf_nodes=19 )\n",
    "Reg_A.fit(X1_train, y1_train)"
   ]
  },
  {
   "cell_type": "code",
   "execution_count": 10,
   "metadata": {},
   "outputs": [
    {
     "name": "stdout",
     "output_type": "stream",
     "text": [
      "Best score: 0.9341204597177913\n",
      "Best parameter: {'max_features': 5, 'n_estimators': 24}\n"
     ]
    }
   ],
   "source": [
    "random_forest = RandomForestRegressor(random_state = 15)\n",
    "\n",
    "params = { \"n_estimators\": np.arange(1,25), \"max_features\": np.arange(1,25) }\n",
    "\n",
    "random_forest_cv = GridSearchCV(random_forest, params, cv = 3, scoring = \"r2\")\n",
    "random_forest_cv.fit(X1_train, y1_train)\n",
    "\n",
    "print(\"Best score:\", random_forest_cv.best_score_)\n",
    "print(\"Best parameter:\", random_forest_cv.best_params_)"
   ]
  },
  {
   "cell_type": "code",
   "execution_count": 11,
   "metadata": {},
   "outputs": [
    {
     "data": {
      "text/plain": [
       "RandomForestRegressor(bootstrap=True, ccp_alpha=0.0, criterion='mse',\n",
       "                      max_depth=None, max_features=5, max_leaf_nodes=None,\n",
       "                      max_samples=None, min_impurity_decrease=0.0,\n",
       "                      min_impurity_split=None, min_samples_leaf=1,\n",
       "                      min_samples_split=2, min_weight_fraction_leaf=0.0,\n",
       "                      n_estimators=24, n_jobs=None, oob_score=False,\n",
       "                      random_state=15, verbose=0, warm_start=False)"
      ]
     },
     "execution_count": 11,
     "metadata": {},
     "output_type": "execute_result"
    }
   ],
   "source": [
    "Reg_B = RandomForestRegressor(n_estimators=24, max_features=5, random_state=15)\n",
    "Reg_B.fit(X1_train, y1_train)"
   ]
  },
  {
   "cell_type": "code",
   "execution_count": 12,
   "metadata": {},
   "outputs": [
    {
     "name": "stdout",
     "output_type": "stream",
     "text": [
      "Best score: 0.6246033545905942\n",
      "Best parameter: {'n_estimators': 19}\n"
     ]
    }
   ],
   "source": [
    "ada_regressor = AdaBoostRegressor(DecisionTreeRegressor(max_depth = 1), random_state = 15)\n",
    "\n",
    "params = {\n",
    "    \"n_estimators\": np.arange(1,20)\n",
    "}\n",
    "\n",
    "ada_regressor_cv = GridSearchCV(ada_regressor, params, cv = 3, scoring = \"r2\")\n",
    "ada_regressor_cv.fit(X1_train, y1_train)\n",
    "\n",
    "print(\"Best score:\", ada_regressor_cv.best_score_)\n",
    "print(\"Best parameter:\", ada_regressor_cv.best_params_)"
   ]
  },
  {
   "cell_type": "code",
   "execution_count": 13,
   "metadata": {},
   "outputs": [
    {
     "name": "stdout",
     "output_type": "stream",
     "text": [
      "Best score: 0.7533434638803244\n",
      "Best parameter: {'n_estimators': 19}\n"
     ]
    }
   ],
   "source": [
    "ada_regressor2 = AdaBoostRegressor(DecisionTreeRegressor(max_depth = 2), random_state = 15)\n",
    "\n",
    "params = {\n",
    "    \"n_estimators\": np.arange(1,20)\n",
    "}\n",
    "\n",
    "ada_regressor_cv2 = GridSearchCV(ada_regressor2, params, cv = 3, scoring = \"r2\")\n",
    "ada_regressor_cv2.fit(X1_train, y1_train)\n",
    "\n",
    "print(\"Best score:\", ada_regressor_cv2.best_score_)\n",
    "print(\"Best parameter:\", ada_regressor_cv2.best_params_)"
   ]
  },
  {
   "cell_type": "code",
   "execution_count": 14,
   "metadata": {},
   "outputs": [
    {
     "name": "stdout",
     "output_type": "stream",
     "text": [
      "Best score: 0.8441309361724557\n",
      "Best parameter: {'n_estimators': 19}\n"
     ]
    }
   ],
   "source": [
    "ada_regressor3 = AdaBoostRegressor(DecisionTreeRegressor(max_depth = 3), random_state = 15)\n",
    "\n",
    "params = {\n",
    "    \"n_estimators\": np.arange(1,20)\n",
    "}\n",
    "\n",
    "ada_regressor_cv3 = GridSearchCV(ada_regressor3, params, cv = 3, scoring = \"r2\")\n",
    "ada_regressor_cv3.fit(X1_train, y1_train)\n",
    "\n",
    "print(\"Best score:\", ada_regressor_cv3.best_score_)\n",
    "print(\"Best parameter:\", ada_regressor_cv3.best_params_)"
   ]
  },
  {
   "cell_type": "code",
   "execution_count": 15,
   "metadata": {},
   "outputs": [
    {
     "data": {
      "text/plain": [
       "AdaBoostRegressor(base_estimator=DecisionTreeRegressor(ccp_alpha=0.0,\n",
       "                                                       criterion='mse',\n",
       "                                                       max_depth=3,\n",
       "                                                       max_features=None,\n",
       "                                                       max_leaf_nodes=None,\n",
       "                                                       min_impurity_decrease=0.0,\n",
       "                                                       min_impurity_split=None,\n",
       "                                                       min_samples_leaf=1,\n",
       "                                                       min_samples_split=2,\n",
       "                                                       min_weight_fraction_leaf=0.0,\n",
       "                                                       presort='deprecated',\n",
       "                                                       random_state=None,\n",
       "                                                       splitter='best'),\n",
       "                  learning_rate=1.0, loss='linear', n_estimators=19,\n",
       "                  random_state=15)"
      ]
     },
     "execution_count": 15,
     "metadata": {},
     "output_type": "execute_result"
    }
   ],
   "source": [
    "Reg_C = AdaBoostRegressor( DecisionTreeRegressor(max_depth = 3), n_estimators=19, random_state=15)\n",
    "Reg_C.fit(X1_train, y1_train)"
   ]
  },
  {
   "cell_type": "code",
   "execution_count": 16,
   "metadata": {},
   "outputs": [
    {
     "name": "stdout",
     "output_type": "stream",
     "text": [
      "Train score: 0.8641423555463259\n",
      "Test score: 0.7490110445958555\n"
     ]
    }
   ],
   "source": [
    "model_A_error_test = Reg_A.score(X1_test,y1_test)\n",
    "model_A_error_train = Reg_A.score(X1_train,y1_train)\n",
    "\n",
    "print(\"Train score:\", model_A_error_train)\n",
    "print(\"Test score:\", model_A_error_test)"
   ]
  },
  {
   "cell_type": "code",
   "execution_count": 17,
   "metadata": {},
   "outputs": [
    {
     "name": "stdout",
     "output_type": "stream",
     "text": [
      "Train score: 0.9902198394084556\n",
      "Test score: 0.9330144735124789\n"
     ]
    }
   ],
   "source": [
    "model_B_error_test = Reg_B.score(X1_test,y1_test)\n",
    "model_B_error_train = Reg_B.score(X1_train,y1_train)\n",
    "\n",
    "print(\"Train score:\", model_B_error_train)\n",
    "print(\"Test score:\", model_B_error_test)"
   ]
  },
  {
   "cell_type": "code",
   "execution_count": 18,
   "metadata": {
    "scrolled": true
   },
   "outputs": [
    {
     "name": "stdout",
     "output_type": "stream",
     "text": [
      "Train score: 0.8914975870979894\n",
      "Test score: 0.8155674473217677\n"
     ]
    }
   ],
   "source": [
    "model_C_error_test = Reg_C.score(X1_test,y1_test)\n",
    "model_C_error_train = Reg_C.score(X1_train,y1_train)\n",
    "\n",
    "print(\"Train score:\", model_C_error_train)\n",
    "print(\"Test score:\", model_C_error_test)"
   ]
  },
  {
   "cell_type": "markdown",
   "metadata": {},
   "source": [
    "As the r squared on 3 models of test and train data differs not very significantly, but there is to some extent overfitting, especially in model A. By the way it has also the lowest score and in this situation\n",
    "is the worst model. In comparison the best model is the model B (random forest) with r squared 0.933 on test data which we can\n",
    "consider as a pretty good model"
   ]
  },
  {
   "cell_type": "markdown",
   "metadata": {},
   "source": [
    "### Problem 2"
   ]
  },
  {
   "cell_type": "code",
   "execution_count": 19,
   "metadata": {},
   "outputs": [],
   "source": [
    "X2,y2 = make_gaussian_quantiles(n_samples=1000, n_features=12, n_classes=2, random_state=15)"
   ]
  },
  {
   "cell_type": "code",
   "execution_count": 20,
   "metadata": {},
   "outputs": [],
   "source": [
    "X2_train, X2_test, y2_train, y2_test = train_test_split(X2, y2, test_size = 0.3, random_state=15)"
   ]
  },
  {
   "cell_type": "code",
   "execution_count": 21,
   "metadata": {},
   "outputs": [
    {
     "data": {
      "text/plain": [
       "GridSearchCV(cv=3, error_score=nan,\n",
       "             estimator=SVC(C=1.0, break_ties=False, cache_size=200,\n",
       "                           class_weight=None, coef0=0.0,\n",
       "                           decision_function_shape='ovr', degree=3,\n",
       "                           gamma='scale', kernel='poly', max_iter=-1,\n",
       "                           probability=False, random_state=15, shrinking=True,\n",
       "                           tol=0.001, verbose=False),\n",
       "             iid='deprecated', n_jobs=None,\n",
       "             param_grid={'C': array([  0.1       ,   5.35789474,  10.61578947,  15.87368421,\n",
       "        21.13157895,  26.38947368,  31.64736842,  36.90526316,\n",
       "        42.16315789,  47.42105263,  52.67894737,  57.93684211,\n",
       "        63.19473684,  68.45263158,  73.71052632,  78.96842105,\n",
       "        84.22631579,  89.48421053,  94.74210526, 100.        ]),\n",
       "                         'degree': array([1, 2, 3])},\n",
       "             pre_dispatch='2*n_jobs', refit=True, return_train_score=False,\n",
       "             scoring='accuracy', verbose=0)"
      ]
     },
     "execution_count": 21,
     "metadata": {},
     "output_type": "execute_result"
    }
   ],
   "source": [
    "degree_grid = np.array([1,2,3])\n",
    "c_param_grid = np.linspace(0.1, 100, 20)\n",
    "\n",
    "\n",
    "mod_svm_poly= svm.SVC(kernel = \"poly\", random_state = 15)\n",
    "opt_mod_svm_poly = GridSearchCV(mod_svm_poly, \n",
    "                             param_grid = {'degree': degree_grid, 'C': c_param_grid}, scoring = \"accuracy\", cv = 3)\n",
    "\n",
    "opt_mod_svm_poly.fit(X2_train, y2_train)"
   ]
  },
  {
   "cell_type": "code",
   "execution_count": 22,
   "metadata": {},
   "outputs": [
    {
     "name": "stdout",
     "output_type": "stream",
     "text": [
      "Model Best Params {'C': 26.38947368421053, 'degree': 2}\n"
     ]
    }
   ],
   "source": [
    "print(\"Model Best Params %s\" % opt_mod_svm_poly.best_params_)"
   ]
  },
  {
   "cell_type": "code",
   "execution_count": 23,
   "metadata": {},
   "outputs": [
    {
     "data": {
      "text/plain": [
       "SVC(C=26.38947368421053, break_ties=False, cache_size=200, class_weight=None,\n",
       "    coef0=0.0, decision_function_shape='ovr', degree=2, gamma='scale',\n",
       "    kernel='poly', max_iter=-1, probability=True, random_state=15,\n",
       "    shrinking=True, tol=0.001, verbose=False)"
      ]
     },
     "execution_count": 23,
     "metadata": {},
     "output_type": "execute_result"
    }
   ],
   "source": [
    "Class_A = svm.SVC(kernel = \"poly\", random_state=15, degree = 2, C =26.38947368421053, probability=True)\n",
    "Class_A.fit(X2_train, y2_train)"
   ]
  },
  {
   "cell_type": "code",
   "execution_count": 24,
   "metadata": {},
   "outputs": [
    {
     "name": "stdout",
     "output_type": "stream",
     "text": [
      "Optimal Value of C: 10.615789473684211\n",
      "Optimal Value of gamma: 0.041363636363636366\n"
     ]
    }
   ],
   "source": [
    "gamma_grid = np.linspace(0.001, 1, 100)\n",
    "c_param_grid = np.linspace(0.1, 100, 20)\n",
    "\n",
    "mod_svm_radial = svm.SVC(kernel = \"rbf\", random_state=15)\n",
    "opt_mod_svm_radial = GridSearchCV(mod_svm_radial, param_grid = {'C': c_param_grid,'gamma':gamma_grid},\n",
    "                                  cv = 3, scoring = \"accuracy\")\n",
    "opt_mod_svm_radial.fit(X2_train, y2_train)\n",
    "\n",
    "print(\"Optimal Value of C: %s\" % opt_mod_svm_radial.best_params_['C'])\n",
    "print(\"Optimal Value of gamma: %s\" % opt_mod_svm_radial.best_params_['gamma'])"
   ]
  },
  {
   "cell_type": "code",
   "execution_count": 25,
   "metadata": {},
   "outputs": [
    {
     "data": {
      "text/plain": [
       "SVC(C=10.615789473684211, break_ties=False, cache_size=200, class_weight=None,\n",
       "    coef0=0.0, decision_function_shape='ovr', degree=3,\n",
       "    gamma=0.041363636363636366, kernel='rbf', max_iter=-1, probability=True,\n",
       "    random_state=15, shrinking=True, tol=0.001, verbose=False)"
      ]
     },
     "execution_count": 25,
     "metadata": {},
     "output_type": "execute_result"
    }
   ],
   "source": [
    "Class_B = svm.SVC(kernel = \"rbf\", random_state=15, C =10.615789473684211, probability=True,  gamma=0.041363636363636366)\n",
    "Class_B.fit(X2_train, y2_train)"
   ]
  },
  {
   "cell_type": "code",
   "execution_count": 26,
   "metadata": {},
   "outputs": [
    {
     "name": "stdout",
     "output_type": "stream",
     "text": [
      "Class_A test score: 0.97\n",
      "Class_B test score: 0.97\n"
     ]
    }
   ],
   "source": [
    "Class_A_score_test = Class_A.score(X2_test, y2_test)\n",
    "Class_B_score_test = Class_B.score(X2_test, y2_test)\n",
    "\n",
    "print(\"Class_A test score:\", Class_A_score_test)\n",
    "print(\"Class_B test score:\", Class_B_score_test)"
   ]
  },
  {
   "cell_type": "markdown",
   "metadata": {},
   "source": [
    "Both models perform pretty well on test set "
   ]
  },
  {
   "cell_type": "code",
   "execution_count": 27,
   "metadata": {},
   "outputs": [],
   "source": [
    "y_pred_polySVC = Class_A.predict(X2_test)\n",
    "pred_prob_polySVC = Class_A.predict_proba(X2_test)"
   ]
  },
  {
   "cell_type": "code",
   "execution_count": 28,
   "metadata": {},
   "outputs": [],
   "source": [
    "fpr0_polySVC, tpr0_polySVC, thresholds0_polySVC = roc_curve(y2_test, pred_prob_polySVC[:,0], pos_label = 0) \n",
    "fpr1_polySVC, tpr1_polySVC, thresholds1_polySVC = roc_curve(y2_test, pred_prob_polySVC[:,1], pos_label = 1)\n",
    "\n",
    "\n",
    "p0_polySVC, r0_polySVC, thresholds0_polySVC = precision_recall_curve(y2_test, pred_prob_polySVC[:,0], pos_label = 0)\n",
    "p1_polySVC, r1_polySVC, thresholds1_polySVC = precision_recall_curve(y2_test, pred_prob_polySVC[:,1], pos_label = 1)\n"
   ]
  },
  {
   "cell_type": "code",
   "execution_count": 29,
   "metadata": {},
   "outputs": [
    {
     "data": {
      "image/png": "[encoded data removed]",
      "text/plain": [
       "<Figure size 1080x360 with 2 Axes>"
      ]
     },
     "metadata": {
      "needs_background": "light"
     },
     "output_type": "display_data"
    }
   ],
   "source": [
    "plt.figure(figsize=(15, 5))\n",
    "\n",
    "plt.subplot(1,2,1)\n",
    "plt.plot(fpr0_polySVC, tpr0_polySVC, \"-\", label = \"Class 0\")\n",
    "plt.plot(fpr1_polySVC, tpr1_polySVC, \"-\", color = 'r', label = \"Class 1\")\n",
    "\n",
    "plt.title(\"ROC for Polynomial\")\n",
    "plt.xlabel(\"False Positive Rate\")\n",
    "plt.ylabel(\"True Positive Rate\")\n",
    "plt.legend()\n",
    "\n",
    "plt.subplot(1,2,2)\n",
    "plt.plot(r0_polySVC, p0_polySVC, \"-\", label = \"Class 0\")\n",
    "plt.plot(r1_polySVC, p1_polySVC, \"-\", color = 'r', label = \"Class 1\")\n",
    "\n",
    "plt.legend()\n",
    "plt.xlabel(\"Recall\")\n",
    "plt.ylabel(\"Precision\")\n",
    "plt.title(\"PR-curve for Polynomial\")\n",
    "\n",
    "plt.show()"
   ]
  },
  {
   "cell_type": "code",
   "execution_count": 30,
   "metadata": {},
   "outputs": [],
   "source": [
    "y_pred_rbfSVC = Class_B.predict(X2_test)\n",
    "pred_prob_rbfSVC = Class_B.predict_proba(X2_test)"
   ]
  },
  {
   "cell_type": "code",
   "execution_count": 31,
   "metadata": {},
   "outputs": [],
   "source": [
    "fpr0_rbfSVC, tpr0_rbfSVC, thresholds0_rbfSVC = roc_curve(y2_test, pred_prob_rbfSVC[:,0], pos_label = 0) \n",
    "fpr1_rbfSVC, tpr1_rbfSVC, thresholds1_rbfSVC = roc_curve(y2_test, pred_prob_rbfSVC[:,1], pos_label = 1)\n",
    "\n",
    "\n",
    "p0_rbfSVC, r0_rbfSVC, thresholds0_rbfSVC = precision_recall_curve(y2_test, pred_prob_rbfSVC[:,0], pos_label = 0)\n",
    "p1_rbfSVC, r1_rbfSVC, thresholds1_rbfSVC = precision_recall_curve(y2_test, pred_prob_rbfSVC[:,1], pos_label = 1)"
   ]
  },
  {
   "cell_type": "code",
   "execution_count": 32,
   "metadata": {},
   "outputs": [
    {
     "data": {
      "image/png": "[encoded data removed]",
      "text/plain": [
       "<Figure size 1080x360 with 2 Axes>"
      ]
     },
     "metadata": {
      "needs_background": "light"
     },
     "output_type": "display_data"
    }
   ],
   "source": [
    "plt.figure(figsize=(15, 5))\n",
    "\n",
    "plt.subplot(1,2,1)\n",
    "plt.plot(fpr0_rbfSVC, tpr0_rbfSVC, \"-\", label = \"Class 0\")\n",
    "plt.plot(fpr1_rbfSVC, tpr1_rbfSVC, \"-\", color = 'r', label = \"Class 1\")\n",
    "\n",
    "plt.title(\"ROC for RBF\")\n",
    "plt.xlabel(\"False Positive Rate\")\n",
    "plt.ylabel(\"True Positive Rate\")\n",
    "plt.legend()\n",
    "\n",
    "plt.subplot(1,2,2)\n",
    "plt.plot(r0_rbfSVC, p0_rbfSVC, \"-\", label = \"Class 0\")\n",
    "plt.plot(r1_rbfSVC, p1_rbfSVC, \"-\", color = 'r', label = \"Class 1\")\n",
    "\n",
    "plt.legend()\n",
    "plt.xlabel(\"Recall\")\n",
    "plt.ylabel(\"Precision\")\n",
    "plt.title(\"PR-curve for RBF\")\n",
    "\n",
    "plt.show()"
   ]
  },
  {
   "cell_type": "code",
   "execution_count": 33,
   "metadata": {},
   "outputs": [
    {
     "name": "stdout",
     "output_type": "stream",
     "text": [
      "Polynomial ROC: AUC Class 0:  0.9946920023194612\n",
      "Polynomial ROC: AUC Class 1:  0.9946920023194612\n",
      "Polynomial Precision-Recall: AUC Class 1: 0.9951646662517212\n",
      "Polynomial Precision-Recall: AUC Class 1: 0.9945415058666381\n"
     ]
    }
   ],
   "source": [
    "print(\"Polynomial ROC: AUC Class 0: \", auc(fpr0_polySVC, tpr0_polySVC))\n",
    "print(\"Polynomial ROC: AUC Class 1: \", auc(fpr1_polySVC, tpr1_polySVC))\n",
    "print(\"Polynomial Precision-Recall: AUC Class 1:\", auc(r0_polySVC, p0_polySVC))\n",
    "print(\"Polynomial Precision-Recall: AUC Class 1:\", auc(r1_polySVC, p1_polySVC))"
   ]
  },
  {
   "cell_type": "code",
   "execution_count": 34,
   "metadata": {},
   "outputs": [
    {
     "name": "stdout",
     "output_type": "stream",
     "text": [
      "RBF ROC: AUC Class 0:  0.9955394977474463\n",
      "RBF ROC: AUC Class 1:  0.9955394977474463\n",
      "RBF Precision-Recall: AUC Class 0: 0.9961071755390617\n",
      "RBF Precision-Recall: AUC Class 1: 0.9951790595204875\n"
     ]
    }
   ],
   "source": [
    "print(\"RBF ROC: AUC Class 0: \", auc(fpr0_rbfSVC, tpr0_rbfSVC))\n",
    "print(\"RBF ROC: AUC Class 1: \", auc(fpr1_rbfSVC, tpr1_rbfSVC))\n",
    "print(\"RBF Precision-Recall: AUC Class 0:\", auc(r0_rbfSVC, p0_rbfSVC))\n",
    "print(\"RBF Precision-Recall: AUC Class 1:\", auc(r1_rbfSVC, p1_rbfSVC))\n"
   ]
  },
  {
   "cell_type": "markdown",
   "metadata": {},
   "source": [
    "AUC for ROC curve for both classes is slightly better in Model A, however the difference is very small. The same is situation \n",
    "occurs in case of AUCs of PR curve. We can conclude that polynomial kernel is slightly better model. "
   ]
  },
  {
   "cell_type": "code",
   "execution_count": 35,
   "metadata": {},
   "outputs": [
    {
     "name": "stdout",
     "output_type": "stream",
     "text": [
      "Class_A train score: 0.9814285714285714\n",
      "Class_B train score: 0.9971428571428571\n",
      "Class_A test score: 0.97\n",
      "Class_B test score: 0.97\n"
     ]
    }
   ],
   "source": [
    "Class_A_score_train = Class_A.score(X2_train, y2_train)\n",
    "Class_B_score_train = Class_B.score(X2_train, y2_train)\n",
    "\n",
    "print(\"Class_A train score:\", Class_A_score_train)\n",
    "print(\"Class_B train score:\", Class_B_score_train)\n",
    "\n",
    "Class_A_score_test = Class_A.score(X2_test, y2_test)\n",
    "Class_B_score_test = Class_B.score(X2_test, y2_test)\n",
    "\n",
    "print(\"Class_A test score:\", Class_A_score_test)\n",
    "print(\"Class_B test score:\", Class_B_score_test)"
   ]
  },
  {
   "cell_type": "markdown",
   "metadata": {},
   "source": [
    "As the r squared of both models both in case of train and test data differs from each other insignificantly we can conclude \n",
    "the there is no overfitting of train data. In case of overfitting we would expect high r squared on train data but poor performance on test data which is not the case in our models."
   ]
  }
 ],
 "metadata": {
  "kernelspec": {
   "display_name": "Python 3",
   "language": "python",
   "name": "python3"
  },
  "language_info": {
   "codemirror_mode": {
    "name": "ipython",
    "version": 3
   },
   "file_extension": ".py",
   "mimetype": "text/x-python",
   "name": "python",
   "nbconvert_exporter": "python",
   "pygments_lexer": "ipython3",
   "version": "3.7.6"
  }
 },
 "nbformat": 4,
 "nbformat_minor": 4
}
